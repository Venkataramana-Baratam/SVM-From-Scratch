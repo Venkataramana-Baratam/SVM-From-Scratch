{
  "nbformat": 4,
  "nbformat_minor": 0,
  "metadata": {
    "colab": {
      "provenance": []
    },
    "kernelspec": {
      "name": "python3",
      "display_name": "Python 3"
    },
    "language_info": {
      "name": "python"
    }
  },
  "cells": [
    {
      "cell_type": "code",
      "execution_count": null,
      "metadata": {
        "id": "ItYofsv8ZgDI"
      },
      "outputs": [],
      "source": [
        "import numpy as np\n",
        "import pandas as pd\n",
        "from sklearn.preprocessing import StandardScaler\n",
        "from sklearn.model_selection import train_test_split\n",
        "from sklearn.metrics import accuracy_score"
      ]
    },
    {
      "cell_type": "code",
      "source": [
        "class SVM_classifier():\n",
        "  def __init__(self,learning_rate,no_of_iterations,lambda_parameter):\n",
        "\n",
        "    self.learning_rate = learning_rate\n",
        "    self.no_of_iterations = no_of_iterations\n",
        "    self.lambda_parameter = lambda_parameter\n",
        "\n",
        "  def fit(self,X,Y):\n",
        "\n",
        "\n",
        "    self.m,self.n = X.shape\n",
        "    self.w = np.zeros(self.n)\n",
        "    self.b = 0\n",
        "    self.X = X\n",
        "    self.Y = Y\n",
        "\n",
        "    for i in range(self.no_of_iterations):\n",
        "      self.update_weights()\n",
        "\n",
        "\n",
        "  def update_weights(self):\n",
        "\n",
        "    y_label = np.where(self.Y<=0,-1,1)\n",
        "\n",
        "    for index,x_i in enumerate(self.X):\n",
        "\n",
        "\n",
        "      condition = y_label[index]*(np.dot(self.w,x_i)-self.b)>=1\n",
        "      if condition:\n",
        "\n",
        "        dw = 2*self.lambda_parameter*self.w\n",
        "        db= 0\n",
        "\n",
        "      else:\n",
        "\n",
        "        dw = 2*self.lambda_parameter*self.w -np.dot(y_label[index],x_i)\n",
        "        db = y_label[index]\n",
        "\n",
        "      self.w  = self.w - self.learning_rate*dw\n",
        "      self.b = self.b - self.learning_rate*db\n",
        "\n",
        "\n",
        "\n",
        "\n",
        "  def predict(self,X):\n",
        "\n",
        "    output = np.dot(X,self.w)-self.b\n",
        "    predicted_labels = np.sign(output)\n",
        "    y_hat = np.where(predicted_labels<=-1,0,1)\n",
        "\n",
        "    return y_hat\n"
      ],
      "metadata": {
        "id": "KTJ9Wim3aEAr"
      },
      "execution_count": null,
      "outputs": []
    }
  ]
}